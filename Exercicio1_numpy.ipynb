{
 "cells": [
  {
   "cell_type": "code",
   "execution_count": 1,
   "metadata": {},
   "outputs": [],
   "source": [
    "import numpy as np\n"
   ]
  },
  {
   "cell_type": "code",
   "execution_count": 5,
   "metadata": {},
   "outputs": [
    {
     "data": {
      "text/plain": [
       "array([[89, 63],\n",
       "       [ 2, 37],\n",
       "       [13, 99],\n",
       "       [83, 55]])"
      ]
     },
     "execution_count": 5,
     "metadata": {},
     "output_type": "execute_result"
    }
   ],
   "source": [
    "arr1 = np.random.randint(0,101, size=(4,2))\n",
    "arr1"
   ]
  },
  {
   "cell_type": "code",
   "execution_count": 7,
   "metadata": {},
   "outputs": [],
   "source": [
    "#Salvando o array em um txt\n",
    "np.savetxt('array1.txt', arr1, fmt=\"%d\", delimiter=\"\\t\")"
   ]
  },
  {
   "cell_type": "code",
   "execution_count": 8,
   "metadata": {},
   "outputs": [
    {
     "data": {
      "text/plain": [
       "array([[89, 63],\n",
       "       [ 2, 37],\n",
       "       [13, 99],\n",
       "       [83, 55]])"
      ]
     },
     "execution_count": 8,
     "metadata": {},
     "output_type": "execute_result"
    }
   ],
   "source": [
    "#Acessando o array salvo no txt \n",
    "matriz = np.loadtxt('array1.txt', dtype=int, delimiter=\"\\t\")\n",
    "matriz\n"
   ]
  },
  {
   "cell_type": "code",
   "execution_count": 48,
   "metadata": {},
   "outputs": [
    {
     "name": "stdout",
     "output_type": "stream",
     "text": [
      "Media das colunas: [46.75 63.5 ], Mediana das linhas: [76.  19.5 56.  69. ], Desvio padrão todos os elementos: 33.24\n",
      "\n"
     ]
    }
   ],
   "source": [
    "#obtendo valores estatísticos \n",
    "media_coluna = matriz.mean(axis=0)\n",
    "mediana_linha = matriz.mean(axis=1)\n",
    "desv_padrao= matriz.std()\n",
    "print(f\"Media das colunas: {media_coluna}, Mediana das linhas: {mediana_linha}, Desvio padrão todos os elementos: {desv_padrao:.2f}\\n\")"
   ]
  },
  {
   "cell_type": "code",
   "execution_count": 17,
   "metadata": {},
   "outputs": [],
   "source": [
    "matriz_transposta = matriz.T\n",
    "matriz2= np.random.randint(0,101, size=(2,4)) #cria o array para multiplica a transposta\n",
    "mult_matriz = matriz_transposta*matriz2\n",
    "print(f'A multiplicação dos arrays{mult_matriz}\\n')"
   ]
  },
  {
   "cell_type": "code",
   "execution_count": 31,
   "metadata": {},
   "outputs": [
    {
     "name": "stdout",
     "output_type": "stream",
     "text": [
      "O produto escalar é [8461 1400 4289 7763]\n"
     ]
    }
   ],
   "source": [
    "arr = np.random.randint(0,101, size=(2)) #cria o array para realizar o prod escalar\n",
    "prod_escalar = np.dot(matriz, arr)\n",
    "print(f'O produto escalar é {prod_escalar}\\n')"
   ]
  },
  {
   "cell_type": "code",
   "execution_count": 44,
   "metadata": {},
   "outputs": [
    {
     "name": "stdout",
     "output_type": "stream",
     "text": [
      "[2] é um número par\n"
     ]
    }
   ],
   "source": [
    "#Filtro dos números pares\n",
    "filtro = np.where(matriz%2 == 0)\n",
    "print(f'{matriz[filtro]} é um número par\\n')"
   ]
  },
  {
   "cell_type": "code",
   "execution_count": 46,
   "metadata": {},
   "outputs": [
    {
     "name": "stdout",
     "output_type": "stream",
     "text": [
      "O resultado da multiplicação do array bidimendional com um array é: [[6319 2142]\n",
      " [ 142 1258]\n",
      " [ 923 3366]\n",
      " [5893 1870]]\n",
      " teste\n"
     ]
    }
   ],
   "source": [
    "#operação aritmética\n",
    "resultado = matriz *arr\n",
    "print(f'O resultado da multiplicação do array bidimendional com um array é: {resultado}\\n')"
   ]
  }
 ],
 "metadata": {
  "kernelspec": {
   "display_name": "mod3_ADA",
   "language": "python",
   "name": "python3"
  },
  "language_info": {
   "codemirror_mode": {
    "name": "ipython",
    "version": 3
   },
   "file_extension": ".py",
   "mimetype": "text/x-python",
   "name": "python",
   "nbconvert_exporter": "python",
   "pygments_lexer": "ipython3",
   "version": "3.11.5"
  }
 },
 "nbformat": 4,
 "nbformat_minor": 2
}
